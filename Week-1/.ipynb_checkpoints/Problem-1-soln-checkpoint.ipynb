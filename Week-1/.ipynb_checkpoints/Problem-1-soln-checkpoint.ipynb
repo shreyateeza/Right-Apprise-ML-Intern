{
 "cells": [
  {
   "cell_type": "code",
   "execution_count": null,
   "metadata": {},
   "outputs": [],
   "source": [
    "%matplotlib inline \n",
    "\n",
    "import numpy as np\n",
    "import pandas as pd\n",
    "import matplotlib.pyplot as plt\n",
    "\n",
    "import requests\n",
    "from io import BytesIO\n",
    "import zipfile\n",
    "import scipy.stats"
   ]
  },
  {
   "cell_type": "markdown",
   "metadata": {},
   "source": [
    "## Problem 1 Solutions"
   ]
  },
  {
   "cell_type": "markdown",
   "metadata": {},
   "source": [
    "### 1(a)"
   ]
  },
  {
   "cell_type": "code",
   "execution_count": null,
   "metadata": {},
   "outputs": [],
   "source": [
    "def getZIP(zipFileName):\n",
    "    r = requests.get(zipFileName).content\n",
    "    s = BytesIO(r)\n",
    "    zf = zipfile.ZipFile(s, 'r')\n",
    "    return zf"
   ]
  },
  {
   "cell_type": "code",
   "execution_count": null,
   "metadata": {},
   "outputs": [],
   "source": [
    "url = 'http://seanlahman.com/files/database/lahman-csv_2014-02-14.zip'\n",
    "zf1 = getZIP(url)\n",
    "print(zf1.namelist())"
   ]
  },
  {
   "cell_type": "code",
   "execution_count": null,
   "metadata": {},
   "outputs": [],
   "source": [
    "tablenames = zf1.namelist()\n",
    "tablenames[tablenames.index('Salaries.csv')]"
   ]
  },
  {
   "cell_type": "code",
   "execution_count": null,
   "metadata": {},
   "outputs": [],
   "source": [
    "salaries = pd.read_csv(zf1.open(tablenames[tablenames.index('Salaries.csv')]))\n",
    "print(\"Number of rows: %i\", salaries.shape[0])\n",
    "salaries.head()"
   ]
  },
  {
   "cell_type": "code",
   "execution_count": null,
   "metadata": {},
   "outputs": [],
   "source": [
    "teams = pd.read_csv(zf1.open(tablenames[tablenames.index('Teams.csv')]))\n",
    "teams = teams[['yearID', 'teamID', 'W']]\n",
    "print(\"Number of rows: %i\", teams.shape[0])\n",
    "teams.head()"
   ]
  },
  {
   "cell_type": "markdown",
   "metadata": {},
   "source": [
    "### 1(b)"
   ]
  },
  {
   "cell_type": "code",
   "execution_count": null,
   "metadata": {},
   "outputs": [],
   "source": [
    "totalSalaries = salaries.groupby(['yearID','teamID'], as_index=False).sum()\n",
    "totalSalaries.head()"
   ]
  },
  {
   "cell_type": "markdown",
   "metadata": {},
   "source": [
    "### 1(c)"
   ]
  },
  {
   "cell_type": "code",
   "execution_count": null,
   "metadata": {},
   "outputs": [],
   "source": [
    "joined = pd.merge(totalSalaries, teams, how=\"inner\", on=['yearID', 'teamID'])\n",
    "joined.head()"
   ]
  },
  {
   "cell_type": "markdown",
   "metadata": {},
   "source": [
    "### 1(d)"
   ]
  },
  {
   "cell_type": "code",
   "execution_count": null,
   "metadata": {},
   "outputs": [],
   "source": [
    "teamName = 'OAK'\n",
    "years = np.arange(2000, 2004)\n",
    "\n",
    "for yr in years: \n",
    "    df = joined[joined['yearID'] == yr]\n",
    "    plt.scatter(df['salary'] / 1e6, df['W'])\n",
    "    plt.title('Wins versus Salaries in year ' + str(yr))\n",
    "    plt.xlabel('Total Salary (in millions)')\n",
    "    plt.ylabel('Wins')\n",
    "    plt.xlim(0, 180)\n",
    "    plt.ylim(30, 130)\n",
    "    plt.grid()\n",
    "    plt.annotate(teamName, \n",
    "        xy = (df['salary'][df['teamID'] == teamName] / 1e6,  df['W'][df['teamID'] == teamName]), \n",
    "        xytext = (-20, 20), textcoords = 'offset points', ha = 'right', va = 'bottom',\n",
    "        bbox = dict(boxstyle = 'round,pad=0.5', fc = 'yellow', alpha = 0.5),\n",
    "        arrowprops = dict(arrowstyle = '->', facecolor = 'black' , connectionstyle = 'arc3,rad=0'))\n",
    "    \n",
    "    plt.show()"
   ]
  },
  {
   "cell_type": "markdown",
   "metadata": {},
   "source": [
    "### 1(e)"
   ]
  },
  {
   "cell_type": "code",
   "execution_count": null,
   "metadata": {},
   "outputs": [],
   "source": []
  }
 ],
 "metadata": {
  "kernelspec": {
   "display_name": "Python 3",
   "language": "python",
   "name": "python3"
  },
  "language_info": {
   "codemirror_mode": {
    "name": "ipython",
    "version": 3
   },
   "file_extension": ".py",
   "mimetype": "text/x-python",
   "name": "python",
   "nbconvert_exporter": "python",
   "pygments_lexer": "ipython3",
   "version": "3.6.5"
  }
 },
 "nbformat": 4,
 "nbformat_minor": 2
}
